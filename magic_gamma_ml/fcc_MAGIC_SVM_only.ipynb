{
 "cells": [
  {
   "cell_type": "markdown",
   "metadata": {
    "colab_type": "text",
    "id": "view-in-github"
   },
   "source": [
    "<a href=\"https://colab.research.google.com/github/prajwalp111/ML/blob/main/magic_gamma_ml/fcc_MAGIC.ipynb\" target=\"_parent\"><img src=\"https://colab.research.google.com/assets/colab-badge.svg\" alt=\"Open In Colab\"/></a>"
   ]
  },
  {
   "cell_type": "code",
   "execution_count": null,
   "metadata": {
    "id": "z88zvlZwjTfg"
   },
   "outputs": [],
   "source": [
    "import pandas as pd\n",
    "import numpy as np\n",
    "import matplotlib.pyplot as plt\n",
    "import seaborn as sb\n",
    "\n",
    "from sklearn.preprocessing import StandardScaler\n",
    "from imblearn.over_sampling import RandomOverSampler\n",
    "\n",
    "#KNN\n",
    "from sklearn.neighbors import KNeighborsClassifier\n",
    "\n",
    "#classifiation performance metrics\n",
    "from sklearn.metrics import classification_report\n",
    "\n",
    "#Naive Bayes\n",
    "from sklearn.naive_bayes import GaussianNB\n",
    "\n",
    "#Logistic Regression\n",
    "from sklearn.linear_model import LogisticRegression\n",
    "\n",
    "#svm\n",
    "from sklearn.svm import SVC"
   ]
  },
  {
   "cell_type": "markdown",
   "metadata": {
    "id": "bDup_WP6p1Cd"
   },
   "source": [
    "# Data loading"
   ]
  },
  {
   "cell_type": "code",
   "execution_count": null,
   "metadata": {
    "colab": {
     "base_uri": "https://localhost:8080/",
     "height": 423
    },
    "id": "Nj6hDTmwpxHo",
    "outputId": "d0c5d77e-a807-459c-ea1a-1827eee36c15"
   },
   "outputs": [],
   "source": [
    "cols = ['fLength','fWidth','fSize','fConc','fConc1','fAsym','fM3Long','fM3Trans','fAlpha','fDist','class']\n",
    "df = pd.read_csv('https://raw.githubusercontent.com/prajwalp111/ML/refs/heads/main/magic_gamma_ml/magic04.data', names = cols)\n",
    "df"
   ]
  },
  {
   "cell_type": "markdown",
   "metadata": {
    "id": "lTnj8HldzDBf"
   },
   "source": [
    "as class value is gamma-g or hadron-h therefore it should be converted into numbers"
   ]
  },
  {
   "cell_type": "code",
   "execution_count": null,
   "metadata": {
    "id": "X0lLf-8omn-8"
   },
   "outputs": [],
   "source": [
    "df['class'] = (df['class'] == 'g').astype(int)"
   ]
  },
  {
   "cell_type": "code",
   "execution_count": null,
   "metadata": {
    "colab": {
     "base_uri": "https://localhost:8080/",
     "height": 206
    },
    "id": "DMl-A-rDzbDK",
    "outputId": "5aa5cea1-f875-43b2-fec8-0ce33b00d879"
   },
   "outputs": [],
   "source": [
    "df.head()"
   ]
  },
  {
   "cell_type": "markdown",
   "metadata": {
    "id": "1F53IcTb0Nky"
   },
   "source": [
    "### comparing two h n g"
   ]
  },
  {
   "cell_type": "code",
   "execution_count": null,
   "metadata": {
    "colab": {
     "base_uri": "https://localhost:8080/",
     "height": 1000
    },
    "collapsed": true,
    "id": "VgqOVeyizYH5",
    "outputId": "b825d78f-1473-4a59-8d75-58fb610fc6b2"
   },
   "outputs": [],
   "source": [
    "for label in cols[:-1]:\n",
    "  plt.hist(df[df['class'] == 1][label],color='yellow',label='gamma',alpha=0.7,density=True)\n",
    "  plt.hist(df[df['class'] == 0][label],color='red',label='hadron',alpha=0.7,density=True)\n",
    "  plt.title(label)\n",
    "  plt.xlabel('Probability')\n",
    "  plt.ylabel(label)\n",
    "  plt.legend()\n",
    "  plt.show()"
   ]
  },
  {
   "cell_type": "markdown",
   "metadata": {
    "id": "59Ia-oriTd6l"
   },
   "source": [
    "# Train , Validation , Test"
   ]
  },
  {
   "cell_type": "code",
   "execution_count": null,
   "metadata": {
    "colab": {
     "base_uri": "https://localhost:8080/"
    },
    "id": "YekFdP7e1m2S",
    "outputId": "2212ceb9-21de-4142-fd3a-13b273e6309a"
   },
   "outputs": [],
   "source": [
    "train, valid, test = np.split(df.sample(frac=1), [int(0.6 * len(df)),int(0.8 *len(df))])"
   ]
  },
  {
   "cell_type": "code",
   "execution_count": null,
   "metadata": {
    "colab": {
     "base_uri": "https://localhost:8080/",
     "height": 423
    },
    "id": "lpG-7W7zUwa3",
    "outputId": "83360576-46a3-4030-e713-eb7ffbe30515"
   },
   "outputs": [],
   "source": [
    "train"
   ]
  },
  {
   "cell_type": "markdown",
   "metadata": {
    "id": "FI2IItG5cHAN"
   },
   "source": [
    "range of data, scale,"
   ]
  },
  {
   "cell_type": "code",
   "execution_count": null,
   "metadata": {
    "id": "cyKUlJe8U6as"
   },
   "outputs": [],
   "source": [
    "def scale_dataset(dataframe, oversample=False):\n",
    "  X = dataframe[dataframe.columns[:-1]].values    #till last column\n",
    "  y = dataframe[dataframe.columns[-1]].values     #last column\n",
    "\n",
    "  scaler = StandardScaler()\n",
    "  X = scaler.fit_transform(X)\n",
    "\n",
    "  if oversample:\n",
    "    ros = RandomOverSampler()\n",
    "    X, y = ros.fit_resample(X, y)\n",
    "\n",
    "  data = np.hstack((X, np.reshape(y, (-1, 1))))\n",
    "\n",
    "  return data, X, y"
   ]
  },
  {
   "cell_type": "code",
   "execution_count": null,
   "metadata": {
    "id": "2Je4gNIIZcrz"
   },
   "outputs": [],
   "source": [
    "scaled_train, X_train, y_train = scale_dataset(train, oversample=True)\n",
    "scaled_valid, X_valid, y_valid = scale_dataset(valid, oversample=False)\n",
    "scaled_test, X_test, y_test = scale_dataset(test, oversample=False)"
   ]
  },
  {
   "cell_type": "markdown",
   "metadata": {
    "id": "y3r-eKKBEJNn"
   },
   "source": [
    "# KNN"
   ]
  },
  {
   "cell_type": "code",
   "execution_count": null,
   "metadata": {
    "colab": {
     "base_uri": "https://localhost:8080/",
     "height": 80
    },
    "id": "GsXu5NI_Z0OB",
    "outputId": "f41fa6d3-104b-459f-a720-07d9728ec4dc"
   },
   "outputs": [],
   "source": [
    "knn_model = KNeighborsClassifier(n_neighbors=1)   #no of neighbors to consider  n=1 means only one neighbor is considered\n",
    "knn_model.fit(X_train, y_train)"
   ]
  },
  {
   "cell_type": "code",
   "execution_count": null,
   "metadata": {
    "id": "QNrzEUL_JeNv"
   },
   "outputs": [],
   "source": [
    "y_pred = knn_model.predict(X_test)"
   ]
  },
  {
   "cell_type": "code",
   "execution_count": null,
   "metadata": {
    "colab": {
     "base_uri": "https://localhost:8080/"
    },
    "id": "wYCRh7uenK6_",
    "outputId": "d5afd74b-3ad3-4859-b219-7188e665b5c7"
   },
   "outputs": [],
   "source": [
    "print(classification_report(y_test, y_pred))"
   ]
  },
  {
   "cell_type": "markdown",
   "metadata": {
    "id": "rDAr0i5wLMTF"
   },
   "source": [
    "🔹 For Class 0:\n",
    "Precision = 0.77\n",
    "→ Out of all predictions that were labeled as 0, 77% were actually 0.\n",
    "\n",
    "Recall = 0.68\n",
    "→ Out of all actual 0 values, the model correctly identified 68%.\n",
    "\n",
    "F1-score = 0.72\n",
    "→ The harmonic mean of precision and recall — balances both.\n",
    "\n",
    "Support = 1276\n",
    "→ There were 1276 actual instances of class 0.\n",
    "\n",
    "🔹 For Class 1:\n",
    "Precision = 0.85\n",
    "→ Out of all predictions labeled as 1, 85% were correct.\n",
    "\n",
    "Recall = 0.90\n",
    "→ Out of all actual 1s, 90% were correctly predicted.\n",
    "\n",
    "F1-score = 0.87\n",
    "→ Very good balance between precision and recall.\n",
    "\n",
    "Support = 2528\n",
    "→ There were 2528 actual instances of class 1."
   ]
  },
  {
   "cell_type": "markdown",
   "metadata": {
    "id": "FSdFCxPSlrzc"
   },
   "source": [
    "# Naive Byes"
   ]
  },
  {
   "cell_type": "code",
   "execution_count": null,
   "metadata": {
    "colab": {
     "base_uri": "https://localhost:8080/",
     "height": 80
    },
    "id": "7xswkqExKVlS",
    "outputId": "29dd852b-d223-4f02-f5e8-726b270159c9"
   },
   "outputs": [],
   "source": [
    "model_nb = GaussianNB()\n",
    "model_nb.fit(X_train, y_train)\n"
   ]
  },
  {
   "cell_type": "code",
   "execution_count": null,
   "metadata": {
    "id": "agssRIc6muEx"
   },
   "outputs": [],
   "source": [
    "y_pred = model_nb.predict(X_test)"
   ]
  },
  {
   "cell_type": "code",
   "execution_count": null,
   "metadata": {
    "colab": {
     "base_uri": "https://localhost:8080/"
    },
    "id": "Rxv-TjPpnCp7",
    "outputId": "9de2d7c3-75f4-4560-c2dd-386e6420fadb"
   },
   "outputs": [],
   "source": [
    "print(classification_report(y_test, y_pred))"
   ]
  },
  {
   "cell_type": "markdown",
   "metadata": {
    "id": "0fqJJp95oeOw"
   },
   "source": [
    "# Logistic Regression"
   ]
  },
  {
   "cell_type": "code",
   "execution_count": null,
   "metadata": {
    "colab": {
     "base_uri": "https://localhost:8080/",
     "height": 80
    },
    "id": "_DUErpFln3dp",
    "outputId": "2456d4b8-51b5-4739-fab7-0c0954409842"
   },
   "outputs": [],
   "source": [
    "model_lr = LogisticRegression()\n",
    "model_lr.fit(X_train, y_train)"
   ]
  },
  {
   "cell_type": "code",
   "execution_count": null,
   "metadata": {
    "id": "F2HBfzSo0mxh"
   },
   "outputs": [],
   "source": [
    "y_pred = model_lr.predict(X_test)"
   ]
  },
  {
   "cell_type": "code",
   "execution_count": null,
   "metadata": {
    "colab": {
     "base_uri": "https://localhost:8080/"
    },
    "id": "rihy7S0B001v",
    "outputId": "8b1d926e-0c69-49e2-9401-aec7248a877b"
   },
   "outputs": [],
   "source": [
    "print(classification_report(y_test, y_pred))"
   ]
  },
  {
   "cell_type": "markdown",
   "metadata": {
    "id": "8JMAPM2F3eCS"
   },
   "source": [
    "# SVM"
   ]
  },
  {
   "cell_type": "code",
   "execution_count": null,
   "metadata": {
    "colab": {
     "base_uri": "https://localhost:8080/",
     "height": 80
    },
    "id": "P_zy7APb1DWh",
    "outputId": "47d429de-7cfc-4da5-87d7-dc1d33dcc666"
   },
   "outputs": [],
   "source": [
    "svm_model = SVC()\n",
    "svm_model.fit(X_train, y_train)"
   ]
  }
 ],
 "metadata": {
  "colab": {
   "authorship_tag": "ABX9TyO1O88gtvXjz5dntlSsyUf2",
   "include_colab_link": true,
   "provenance": []
  },
  "kernelspec": {
   "display_name": "Python 3",
   "name": "python3"
  },
  "language_info": {
   "name": "python"
  }
 },
 "nbformat": 4,
 "nbformat_minor": 0
}
